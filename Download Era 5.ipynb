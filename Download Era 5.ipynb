{
 "cells": [
  {
   "cell_type": "code",
   "execution_count": 1,
   "metadata": {},
   "outputs": [
    {
     "data": {
      "text/plain": [
       "{'ssl_verify': True,\n",
       " 'channels': ['defaults'],\n",
       " 'url': 'https://cds.climate.copernicus.eu/api/v2',\n",
       " 'key': '301317:54cb11d1-4e3e-41a3-ae46-39d74b0c5fd5'}"
      ]
     },
     "execution_count": 1,
     "metadata": {},
     "output_type": "execute_result"
    }
   ],
   "source": [
    "\n",
    "import cdsapi\n",
    "import yaml\n",
    "\n",
    "with open('C:/Users/User/.cdsapirc', 'r') as f:\n",
    "      credentials = yaml.safe_load(f)\n",
    "\n",
    "credentials"
   ]
  },
  {
   "cell_type": "code",
   "execution_count": 2,
   "metadata": {},
   "outputs": [
    {
     "data": {
      "text/plain": [
       "<cdsapi.api.Client at 0x2811b60c460>"
      ]
     },
     "execution_count": 2,
     "metadata": {},
     "output_type": "execute_result"
    }
   ],
   "source": [
    "#!/usr/bin/env python\n",
    "c = cdsapi.Client(url=credentials['url'], key=credentials['key'])\n",
    "c"
   ]
  },
  {
   "cell_type": "code",
   "execution_count": 4,
   "metadata": {},
   "outputs": [
    {
     "name": "stderr",
     "output_type": "stream",
     "text": [
      "2024-04-09 22:08:08,064 INFO Welcome to the CDS\n",
      "2024-04-09 22:08:08,066 INFO Sending request to https://cds.climate.copernicus.eu/api/v2/resources/reanalysis-era5-single-levels\n",
      "2024-04-09 22:08:08,295 INFO Request is queued\n",
      "2024-04-09 22:08:09,526 INFO Request is running\n",
      "2024-04-09 22:14:29,661 INFO Request is completed\n",
      "2024-04-09 22:14:29,662 INFO Downloading https://download-0018.copernicus-climate.eu/cache-compute-0018/cache/data0/adaptor.mars.internal-1712675288.6286702-14171-3-cf18f6c8-0892-4dc0-aeb0-c3a76aecaebb.grib to download.grib (41.9M)\n",
      "2024-04-09 22:16:52,803 INFO Download rate 299.4K/s \n"
     ]
    },
    {
     "data": {
      "text/plain": [
       "Result(content_length=43890000,content_type=application/x-grib,location=https://download-0018.copernicus-climate.eu/cache-compute-0018/cache/data0/adaptor.mars.internal-1712675288.6286702-14171-3-cf18f6c8-0892-4dc0-aeb0-c3a76aecaebb.grib)"
      ]
     },
     "execution_count": 4,
     "metadata": {},
     "output_type": "execute_result"
    }
   ],
   "source": [
    "\n",
    "c.retrieve(\n",
    "    'reanalysis-era5-single-levels',\n",
    "    {\n",
    "        'product_type': 'reanalysis',\n",
    "        'format': 'grib',\n",
    "        'variable': [\n",
    "            '100m_u_component_of_wind', '100m_v_component_of_wind', '10m_u_component_of_neutral_wind',\n",
    "            '10m_u_component_of_wind', '10m_v_component_of_neutral_wind', '10m_v_component_of_wind',\n",
    "            '10m_wind_gust_since_previous_post_processing', '2m_dewpoint_temperature', '2m_temperature',\n",
    "            'clear_sky_direct_solar_radiation_at_surface', 'convective_precipitation', 'convective_rain_rate',\n",
    "            'downward_uv_radiation_at_the_surface', 'forecast_logarithm_of_surface_roughness_for_heat', 'high_vegetation_cover',\n",
    "            'ice_temperature_layer_1', 'ice_temperature_layer_2', 'ice_temperature_layer_3',\n",
    "            'ice_temperature_layer_4', 'instantaneous_10m_wind_gust', 'instantaneous_large_scale_surface_precipitation_fraction',\n",
    "            'instantaneous_surface_sensible_heat_flux', 'large_scale_precipitation', 'large_scale_precipitation_fraction',\n",
    "            'large_scale_rain_rate', 'leaf_area_index_high_vegetation', 'leaf_area_index_low_vegetation',\n",
    "            'low_vegetation_cover', 'maximum_2m_temperature_since_previous_post_processing', 'maximum_total_precipitation_rate_since_previous_post_processing',\n",
    "            'mean_sea_level_pressure', 'minimum_2m_temperature_since_previous_post_processing', 'minimum_total_precipitation_rate_since_previous_post_processing',\n",
    "            'near_ir_albedo_for_diffuse_radiation', 'near_ir_albedo_for_direct_radiation', 'precipitation_type',\n",
    "            'sea_surface_temperature', 'skin_temperature', 'soil_temperature_level_1',\n",
    "            'soil_temperature_level_2', 'soil_temperature_level_3', 'soil_temperature_level_4',\n",
    "            'soil_type', 'surface_latent_heat_flux', 'surface_net_solar_radiation',\n",
    "            'surface_net_solar_radiation_clear_sky', 'surface_net_thermal_radiation', 'surface_net_thermal_radiation_clear_sky',\n",
    "            'surface_pressure', 'surface_sensible_heat_flux', 'surface_solar_radiation_downward_clear_sky',\n",
    "            'surface_solar_radiation_downwards', 'surface_thermal_radiation_downward_clear_sky', 'surface_thermal_radiation_downwards',\n",
    "            'toa_incident_solar_radiation', 'top_net_solar_radiation', 'top_net_solar_radiation_clear_sky',\n",
    "            'top_net_thermal_radiation', 'top_net_thermal_radiation_clear_sky', 'total_column_rain_water',\n",
    "            'total_precipitation', 'total_sky_direct_solar_radiation_at_surface', 'type_of_high_vegetation',\n",
    "            'type_of_low_vegetation', 'uv_visible_albedo_for_diffuse_radiation', 'uv_visible_albedo_for_direct_radiation',\n",
    "            'volumetric_soil_water_layer_1', 'volumetric_soil_water_layer_2', 'volumetric_soil_water_layer_3',\n",
    "            'volumetric_soil_water_layer_4',\n",
    "        ],\n",
    "        'year': '2024',\n",
    "        'month': [\n",
    "            '01', '02', '03',\n",
    "            '04', '05', '06',\n",
    "            '07', '08', '09',\n",
    "            '10', '11', '12',\n",
    "        ],\n",
    "        'day': [\n",
    "            '01', '02', '03',\n",
    "            '04', '05', '06',\n",
    "            '07', '08', '09',\n",
    "            '10', '11', '12',\n",
    "            '13', '14', '15',\n",
    "            '16', '17', '18',\n",
    "            '19', '20', '21',\n",
    "            '22', '23', '24',\n",
    "            '25', '26', '27',\n",
    "            '28', '29', '30',\n",
    "            '31',\n",
    "        ],\n",
    "        'time': '00:00',\n",
    "        'area': [\n",
    "            -1.13, 98.61, -5.95,\n",
    "            138.24,\n",
    "        ],\n",
    "    },\n",
    "    'download.grib')"
   ]
  },
  {
   "cell_type": "code",
   "execution_count": null,
   "metadata": {},
   "outputs": [],
   "source": []
  },
  {
   "cell_type": "markdown",
   "metadata": {},
   "source": []
  }
 ],
 "metadata": {
  "kernelspec": {
   "display_name": "DS",
   "language": "python",
   "name": "python3"
  },
  "language_info": {
   "codemirror_mode": {
    "name": "ipython",
    "version": 3
   },
   "file_extension": ".py",
   "mimetype": "text/x-python",
   "name": "python",
   "nbconvert_exporter": "python",
   "pygments_lexer": "ipython3",
   "version": "3.8.0"
  },
  "orig_nbformat": 4
 },
 "nbformat": 4,
 "nbformat_minor": 2
}
